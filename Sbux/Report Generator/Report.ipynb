{
 "cells": [
  {
   "cell_type": "code",
   "execution_count": 13,
   "metadata": {},
   "outputs": [],
   "source": [
    "import \"io\"\n",
    "import \"os\""
   ]
  },
  {
   "cell_type": "code",
   "execution_count": 29,
   "metadata": {},
   "outputs": [
    {
     "ename": "ERROR",
     "evalue": "reflect.StructOf: field 0 has invalid name",
     "output_type": "error",
     "traceback": [
      "reflect.StructOf: field 0 has invalid name"
     ]
    }
   ],
   "source": [
    "type Report interface{\n",
    "//     Init()\n",
    "    // WriteTo(io.Writer)\n",
    "}\n",
    "\n",
    "func testReport(r interface{}) {\n",
    "    r.Init()\n",
    "\n",
    "    var file *os.File\n",
    "    var err error\n",
    "\n",
    "    if file, err = os.Open(\"report.txt\"); err != nil {\n",
    "        file, _ = os.Create(\"report.txt\")\n",
    "    }\n",
    "\n",
    "\n",
    "    r.WriteTo(file)\n",
    "    file.Close()\n",
    "}"
   ]
  },
  {
   "cell_type": "code",
   "execution_count": 26,
   "metadata": {},
   "outputs": [],
   "source": [
    "type SimpleReport struct {\n",
    "    Name string\n",
    "}\n",
    "\n",
    "func (s *SimpleReport) Init() {\n",
    "    s.Name = \"Test Report\"\n",
    "}\n",
    "\n",
    "func (s *SimpleReport) WriteTo(w io.Writer) {\n",
    "    w.Write([]byte(\"This is connor\"))\n",
    "}"
   ]
  },
  {
   "cell_type": "code",
   "execution_count": 27,
   "metadata": {},
   "outputs": [
    {
     "ename": "ERROR",
     "evalue": "repl.go:7:5: interface <main.Report> has no method Init",
     "output_type": "error",
     "traceback": [
      "repl.go:7:5: interface <main.Report> has no method Init"
     ]
    }
   ],
   "source": [
    "testReport(new(SimpleReport))"
   ]
  },
  {
   "cell_type": "code",
   "execution_count": null,
   "metadata": {},
   "outputs": [],
   "source": [
    "type "
   ]
  }
 ],
 "metadata": {
  "kernelspec": {
   "display_name": "Go",
   "language": "go",
   "name": "gophernotes"
  },
  "language_info": {
   "codemirror_mode": "",
   "file_extension": ".go",
   "mimetype": "",
   "name": "go",
   "nbconvert_exporter": "",
   "pygments_lexer": "",
   "version": "go1.9.2"
  }
 },
 "nbformat": 4,
 "nbformat_minor": 2
}
