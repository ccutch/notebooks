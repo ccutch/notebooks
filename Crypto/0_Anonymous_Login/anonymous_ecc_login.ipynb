{
 "cells": [
  {
   "cell_type": "markdown",
   "metadata": {},
   "source": [
    "# Anonymous user login using ecdsa"
   ]
  },
  {
   "cell_type": "code",
   "execution_count": 48,
   "metadata": {},
   "outputs": [],
   "source": [
    "import sha3\n",
    "import json\n",
    "\n",
    "from collections import namedtuple\n",
    "from ecdsa import SigningKey, VerifyingKey, NIST256p\n",
    "from IPython.display import display, HTML"
   ]
  },
  {
   "cell_type": "code",
   "execution_count": 49,
   "metadata": {},
   "outputs": [],
   "source": [
    "# get parameters from user\n",
    "passphrase = 'Connors test.'\n",
    "cycles = 7\n"
   ]
  },
  {
   "cell_type": "code",
   "execution_count": 50,
   "metadata": {},
   "outputs": [
    {
     "name": "stdout",
     "output_type": "stream",
     "text": [
      "Private key: 0x3932363832636530396136383936373234616264373262303264643431623062\n",
      "Public key:  0xb8b495406018b5e6f17893ee2e5b704791ab2eb9d68d34ae6b5c0132d6ab5bca... (shortened for brevity)\n",
      "Address:     0x272ca12fa07469a00f7f54770459b02e\n"
     ]
    }
   ],
   "source": [
    "# Client side generation of keys\n",
    "def sha(str_in):\n",
    "    keccak = sha3.keccak_256()\n",
    "    keccak.update(str_in)\n",
    "    return keccak.hexdigest()[:32]\n",
    "\n",
    "priv_key_string = sha(passphrase)\n",
    "for c in range(cycles):\n",
    "    priv_key_string = sha(priv_key_string)\n",
    "priv_key = SigningKey.from_string(priv_key_string, curve=NIST256p)\n",
    "pub_key = priv_key.get_verifying_key()\n",
    "\n",
    "private_key = priv_key.to_string().encode('hex')\n",
    "public_key = pub_key.to_string().encode('hex')\n",
    "address = sha(pub_key.to_string().encode('hex'))\n",
    "\n",
    "\n",
    "print \"Private key: 0x\" + private_key\n",
    "print \"Public key:  0x\" + public_key[:64] + '... (shortened for brevity)'\n",
    "print \"Address:     0x\" + address\n",
    "\n",
    "# Store private_key to localStorage or local file (never let server see)\n",
    "LocalStorage = namedtuple('local_storage', ('address', 'private_key'))\n",
    "local_storage = LocalStorage(address, private_key)"
   ]
  },
  {
   "cell_type": "code",
   "execution_count": 51,
   "metadata": {},
   "outputs": [],
   "source": [
    "# Example server\n",
    "from flask import Flask, request, jsonify\n",
    "\n",
    "app = Flask('anonymous_login_api')\n",
    "client = app.test_client()\n",
    "users_registry = {}\n",
    "\n",
    "@app.route('/<address>', methods=('GET',))\n",
    "def lookup_user(address):\n",
    "    return jsonify(users_registry.get(address, None))"
   ]
  },
  {
   "cell_type": "code",
   "execution_count": 53,
   "metadata": {},
   "outputs": [
    {
     "data": {
      "text/plain": [
       "True"
      ]
     },
     "execution_count": 53,
     "metadata": {},
     "output_type": "execute_result"
    }
   ],
   "source": [
    "# Because registry was empty we should get no user for our addres\n",
    "res = client.get('/' + local_storage.address)\n",
    "data = json.loads(res.data)\n",
    "data is None"
   ]
  },
  {
   "cell_type": "code",
   "execution_count": null,
   "metadata": {},
   "outputs": [],
   "source": []
  },
  {
   "cell_type": "code",
   "execution_count": null,
   "metadata": {},
   "outputs": [],
   "source": []
  }
 ],
 "metadata": {
  "kernelspec": {
   "display_name": "Python 2",
   "language": "python",
   "name": "python2"
  },
  "language_info": {
   "codemirror_mode": {
    "name": "ipython",
    "version": 2
   },
   "file_extension": ".py",
   "mimetype": "text/x-python",
   "name": "python",
   "nbconvert_exporter": "python",
   "pygments_lexer": "ipython2",
   "version": "2.7.12"
  }
 },
 "nbformat": 4,
 "nbformat_minor": 2
}
