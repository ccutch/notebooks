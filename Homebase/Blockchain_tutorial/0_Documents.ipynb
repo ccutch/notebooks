{
 "cells": [
  {
   "cell_type": "code",
   "execution_count": 1,
   "metadata": {},
   "outputs": [
    {
     "ename": "ERROR",
     "evalue": "error executing \"go build -buildmode=plugin\" in directory \"/home/connor/go/src/gomacro_imports/github.com/evanphx/json-patch/\": exit status 2",
     "output_type": "error",
     "traceback": [
      "error executing \"go build -buildmode=plugin\" in directory \"/home/connor/go/src/gomacro_imports/github.com/evanphx/json-patch/\": exit status 2"
     ]
    }
   ],
   "source": [
    "import (\n",
    "    \"github.com/evanphx/json-patch\"\n",
    ")"
   ]
  },
  {
   "cell_type": "code",
   "execution_count": null,
   "metadata": {},
   "outputs": [],
   "source": []
  }
 ],
 "metadata": {
  "kernelspec": {
   "display_name": "Go",
   "language": "go",
   "name": "gophernotes"
  },
  "language_info": {
   "codemirror_mode": "",
   "file_extension": ".go",
   "mimetype": "",
   "name": "go",
   "nbconvert_exporter": "",
   "pygments_lexer": "",
   "version": "go1.9.2"
  }
 },
 "nbformat": 4,
 "nbformat_minor": 2
}
