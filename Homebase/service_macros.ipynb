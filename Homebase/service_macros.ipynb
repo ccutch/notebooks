{
 "cells": [
  {
   "cell_type": "code",
   "execution_count": 7,
   "metadata": {},
   "outputs": [
    {
     "data": {
      "text/plain": [
       "{:module, Homebase.Services.Actor, <<70, 79, 82, 49, 0, 0, 11, 188, 66, 69, 65, 77, 65, 116, 85, 56, 0, 0, 1, 36, 0, 0, 0, 29, 30, 69, 108, 105, 120, 105, 114, 46, 72, 111, 109, 101, 98, 97, 115, 101, 46, 83, 101, 114, 118, 105, 99, ...>>, {:call, 3}}"
      ]
     },
     "execution_count": 7,
     "metadata": {},
     "output_type": "execute_result"
    }
   ],
   "source": [
    "# Example genserver generator using macros\n",
    "\n",
    "defmodule Homebase.Services.Actor do\n",
    "\n",
    "    defmacro __using__(opts \\\\ Keyword.new()) do\n",
    "        quote do\n",
    "            import Homebase.Services.Actor, only: [call: 3]\n",
    "            use GenServer\n",
    "            \n",
    "            def start_link(opts \\\\ [name: __MODULE__]) do\n",
    "                name = Keyword.get(opts, :name, __MODULE__)\n",
    "                opts = Keyword.merge(unquote(opts), opts)\n",
    "                if Keyword.get(opts, :name) == nil do\n",
    "                    opts = Keyword.set(opts, :name, name)\n",
    "                end\n",
    "                \n",
    "                GenServer.start_link(__MODULE__, initial_state, opts)\n",
    "            end\n",
    "        end\n",
    "    end\n",
    "    \n",
    "    defmacro actor(name, do: block) do\n",
    "        # IO.puts Macro.to_string(block)\n",
    "        quote do\n",
    "            defmodule unquote(name) do\n",
    "               use Homebase.Services.Actor\n",
    "               unquote(block)\n",
    "            end\n",
    "        end\n",
    "    end\n",
    "    \n",
    "    defmacro call(msg, state, do: block) do\n",
    "        fn_name = msg\n",
    "        quote do\n",
    "            def handle_call(unquote(msg), _from, unquote(state)) do\n",
    "                res = unquote(block)\n",
    "                if is_tuple(res) do\n",
    "                    [:reply] ++ Tuple.to_list(res) |> List.to_tuple\n",
    "                else\n",
    "                    {:reply, res, res}\n",
    "                end\n",
    "                \n",
    "                # db persis\n",
    "            end\n",
    "        end\n",
    "    end\n",
    "\n",
    "end"
   ]
  },
  {
   "cell_type": "code",
   "execution_count": 2,
   "metadata": {},
   "outputs": [
    {
     "name": "stdout",
     "output_type": "stream",
     "text": [
      "30\n",
      "27\n",
      "40\n"
     ]
    },
    {
     "data": {
      "text/plain": [
       "40"
      ]
     },
     "execution_count": 2,
     "metadata": {},
     "output_type": "execute_result"
    }
   ],
   "source": [
    "# Using with idiomatic elixir module and use\n",
    "\n",
    "defmodule ElixirActor do\n",
    "    use Homebase.Services.Actor\n",
    "    \n",
    "    def initial_state, do: 20\n",
    "    \n",
    "    call(:test, state) do\n",
    "        state + 10\n",
    "    end\n",
    "    \n",
    "    call(:test2, state) do\n",
    "        {state - 3, state}\n",
    "    end\n",
    "end\n",
    "\n",
    "{:ok, pid} = ElixirActor.start_link()\n",
    "IO.inspect GenServer.call(pid, :test)\n",
    "IO.inspect GenServer.call(pid, :test2)\n",
    "IO.inspect GenServer.call(pid, :test)"
   ]
  },
  {
   "cell_type": "code",
   "execution_count": 8,
   "metadata": {},
   "outputs": [
    {
     "name": "stdout",
     "output_type": "stream",
     "text": [
      "(\n",
      "  def(initial_state) do\n",
      "    0\n",
      "  end\n",
      "  call(:increment, state) do\n",
      "    state + 1\n",
      "  end\n",
      "  call(:decrement, state) do\n",
      "    state - 1\n",
      "  end\n",
      "  call({:set_value, value}, state) do\n",
      "    value\n",
      "  end\n",
      ")\n"
     ]
    },
    {
     "data": {
      "text/plain": [
       "{:module, Connor.Counter, <<70, 79, 82, 49, 0, 0, 18, 112, 66, 69, 65, 77, 65, 116, 85, 56, 0, 0, 2, 30, 0, 0, 0, 56, 21, 69, 108, 105, 120, 105, 114, 46, 67, 111, 110, 110, 111, 114, 46, 67, 111, 117, 110, 116, 101, 114, 8, ...>>, {:handle_call, 3}}"
      ]
     },
     "execution_count": 8,
     "metadata": {},
     "output_type": "execute_result"
    }
   ],
   "source": [
    "# Using top level macro, inspired by meh/amnesia\n",
    "import Homebase.Services.Actor\n",
    "\n",
    "actor Connor.Counter do\n",
    "\n",
    "    def initial_state, do: 0\n",
    "\n",
    "    call(:increment, state) do\n",
    "        state + 1\n",
    "    end\n",
    "    \n",
    "    call :decrement, state do\n",
    "        state - 1\n",
    "    end\n",
    "    \n",
    "    call {:set_value, value}, state, do: value\n",
    "    \n",
    "end"
   ]
  },
  {
   "cell_type": "code",
   "execution_count": 4,
   "metadata": {},
   "outputs": [
    {
     "data": {
      "text/plain": [
       "4"
      ]
     },
     "execution_count": 4,
     "metadata": {},
     "output_type": "execute_result"
    }
   ],
   "source": [
    "{:ok, pid} = Connor.Counter.start_link(name: :test_counter_1)\n",
    "pid\n",
    "\n",
    "GenServer.call(pid, :increment)\n",
    "GenServer.call(pid, :increment)\n",
    "GenServer.call(pid, :increment)\n",
    "GenServer.call(pid, :increment)"
   ]
  },
  {
   "cell_type": "code",
   "execution_count": 5,
   "metadata": {},
   "outputs": [
    {
     "ename": "MatchError",
     "evalue": "1",
     "output_type": "error",
     "traceback": [
      "** %MatchError{term: {:error, {9, \"unexpected token: \", \"\\\":\\\" (column 20, codepoint U+003A)\"}}}"
     ]
    }
   ],
   "source": [
    "# Making a python actor that is monitored and communicated with an otp actor\n",
    "import Homebase.Services.Python\n",
    "\n",
    "py_actor Connor.Counter do\n",
    "    from homebase import handle_call\n",
    "    count = 0\n",
    "\n",
    "    @handle_call(\"increment\")\n",
    "    def increment():\n",
    "        return count++\n",
    "        \n",
    "    @handle_call(\"decrement\")\n",
    "    def decrement():\n",
    "        return count--\n",
    "\n",
    "    @handle_call(\"set_value\")\n",
    "    def set_value(value):\n",
    "        return count = value\n",
    "end"
   ]
  },
  {
   "cell_type": "code",
   "execution_count": 10,
   "metadata": {},
   "outputs": [
    {
     "data": {
      "text/plain": [
       "\"1 + 1\""
      ]
     },
     "execution_count": 10,
     "metadata": {},
     "output_type": "execute_result"
    }
   ],
   "source": [
    "Macro.to_string(quote(do: 1+1))"
   ]
  },
  {
   "cell_type": "code",
   "execution_count": null,
   "metadata": {},
   "outputs": [],
   "source": []
  }
 ],
 "metadata": {
  "kernelspec": {
   "display_name": "Elixir",
   "language": "Elixir",
   "name": "ielixir"
  },
  "language_info": {
   "codemirror_mode": "elixir",
   "file_extension": "ex",
   "mimetype": "text/x-elixir",
   "name": "elixir",
   "nbconvert_exporter": "",
   "pygments_lexer": "elixir",
   "version": "#Version<1.6.0>"
  }
 },
 "nbformat": 4,
 "nbformat_minor": 2
}
