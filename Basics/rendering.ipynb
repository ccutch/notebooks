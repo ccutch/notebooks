{
 "cells": [
  {
   "cell_type": "code",
   "execution_count": 34,
   "metadata": {},
   "outputs": [
    {
     "data": {
      "application/javascript": [
       "\n",
       "window.name = \"Connor\";\n"
      ],
      "text/plain": [
       "<IPython.core.display.Javascript object>"
      ]
     },
     "execution_count": 34,
     "metadata": {},
     "output_type": "execute_result"
    }
   ],
   "source": [
    "from IPython.display import Javascript\n",
    "\n",
    "def get_name():\n",
    "    print('Ed')\n",
    "    \n",
    "Javascript(\"\"\"\n",
    "window.name = \"{}\";\n",
    "\"\"\".format(\"Connor\"))"
   ]
  },
  {
   "cell_type": "code",
   "execution_count": 35,
   "metadata": {},
   "outputs": [
    {
     "data": {
      "text/html": [
       "<style>\n",
       "#name {\n",
       "    color: #676767;\n",
       "}\n",
       "</style>\n",
       "\n",
       "<h1 id=\"name\"></h1>"
      ],
      "text/plain": [
       "<IPython.core.display.HTML object>"
      ]
     },
     "metadata": {},
     "output_type": "display_data"
    }
   ],
   "source": [
    "%%html\n",
    "<style>\n",
    "#name {\n",
    "    color: #676767;\n",
    "}\n",
    "</style>\n",
    "\n",
    "<h1 id=\"name\"></h1>"
   ]
  },
  {
   "cell_type": "code",
   "execution_count": 38,
   "metadata": {},
   "outputs": [
    {
     "data": {
      "application/javascript": [
       "let nameElem = document.getElementById('name');\n",
       "nameElem.innerText = window.name;\n",
       "function setName(type, name) {\n",
       "    console.log(type)\n",
       "    console.log(name)\n",
       "}\n",
       "\n",
       "nameElem.addEventListener('click', () => {\n",
       "//     nameElem.innerText = window.name + '!'\n",
       "    IPython.notebook.kernel.execute(\"test()\", {output: setName})\n",
       "})"
      ],
      "text/plain": [
       "<IPython.core.display.Javascript object>"
      ]
     },
     "metadata": {},
     "output_type": "display_data"
    }
   ],
   "source": [
    "%%javascript\n",
    "let nameElem = document.getElementById('name');\n",
    "nameElem.innerText = window.name;\n",
    "function setName(type, name) {\n",
    "    console.log(type)\n",
    "    console.log(name)\n",
    "}\n",
    "\n",
    "nameElem.addEventListener('click', () => {\n",
    "//     nameElem.innerText = window.name + '!'\n",
    "    IPython.notebook.kernel.execute(\"test()\", {output: setName})\n",
    "})"
   ]
  },
  {
   "cell_type": "code",
   "execution_count": null,
   "metadata": {},
   "outputs": [],
   "source": []
  },
  {
   "cell_type": "code",
   "execution_count": null,
   "metadata": {},
   "outputs": [],
   "source": []
  }
 ],
 "metadata": {
  "kernelspec": {
   "display_name": "Python 2",
   "language": "python",
   "name": "python2"
  },
  "language_info": {
   "codemirror_mode": {
    "name": "ipython",
    "version": 2
   },
   "file_extension": ".py",
   "mimetype": "text/x-python",
   "name": "python",
   "nbconvert_exporter": "python",
   "pygments_lexer": "ipython2",
   "version": "2.7.12"
  }
 },
 "nbformat": 4,
 "nbformat_minor": 2
}
