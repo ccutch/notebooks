{
 "cells": [
  {
   "cell_type": "code",
   "execution_count": 1,
   "metadata": {},
   "outputs": [],
   "source": [
    "from __future__ import print_function\n",
    "from flask import Flask, jsonify"
   ]
  },
  {
   "cell_type": "code",
   "execution_count": 2,
   "metadata": {},
   "outputs": [],
   "source": [
    "# Setup flask app just like you normally would\n",
    "app = Flask('test-app')\n",
    "\n",
    "@app.route('/test')\n",
    "def test_route():\n",
    "    # Test `hello world` route\n",
    "    return 'Hello Flask!'\n",
    "\n",
    "@app.route('/json/<name>')\n",
    "def test_json_response(name):\n",
    "    # Example how to return json \n",
    "    return jsonify({\"name\": name})"
   ]
  },
  {
   "cell_type": "code",
   "execution_count": 3,
   "metadata": {},
   "outputs": [],
   "source": [
    "# Create flask app client\n",
    "client = app.test_client()"
   ]
  },
  {
   "cell_type": "code",
   "execution_count": null,
   "metadata": {},
   "outputs": [
    {
     "name": "stdout",
     "output_type": "stream",
     "text": [
      "Test: Hello Flask!\n",
      "\n",
      "JSON: {\n",
      "  \"name\": \"connor\"\n",
      "}\n",
      "\n"
     ]
    }
   ],
   "source": [
    "# Test hello world route\n",
    "print(\"Test: \" + client.get('/test').data, end=\"\\n\\n\")\n",
    "print(\"JSON: \" + client.get('/json/connor').data)"
   ]
  },
  {
   "cell_type": "code",
   "execution_count": null,
   "metadata": {},
   "outputs": [],
   "source": [
    "# Run server go to http://notebooks.homebase.sh:3000 (make sure not to use HTTPS)\n",
    "app.run(host=\"0.0.0.0\", port=3000)"
   ]
  },
  {
   "cell_type": "code",
   "execution_count": null,
   "metadata": {},
   "outputs": [],
   "source": []
  }
 ],
 "metadata": {
  "kernelspec": {
   "display_name": "Python 2",
   "language": "python",
   "name": "python2"
  },
  "language_info": {
   "codemirror_mode": {
    "name": "ipython",
    "version": 2
   },
   "file_extension": ".py",
   "mimetype": "text/x-python",
   "name": "python",
   "nbconvert_exporter": "python",
   "pygments_lexer": "ipython2",
   "version": "2.7.12"
  }
 },
 "nbformat": 4,
 "nbformat_minor": 2
}
