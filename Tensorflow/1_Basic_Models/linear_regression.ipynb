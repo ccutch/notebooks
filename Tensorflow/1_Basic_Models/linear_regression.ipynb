{
 "cells": [
  {
   "cell_type": "code",
   "execution_count": 1,
   "metadata": {},
   "outputs": [],
   "source": [
    "from __future__ import print_function\n",
    "import tensorflow as tf\n",
    "import numpy\n",
    "import numpy.random as rng\n",
    "import matplotlib.pyplot as plt"
   ]
  },
  {
   "cell_type": "code",
   "execution_count": 2,
   "metadata": {},
   "outputs": [],
   "source": [
    "# get training data and length of training data\n",
    "train_x = numpy.asarray([3.3,4.4,5.5,6.71,6.93,4.168,9.779,6.182,7.59,2.167,7.042,10.791,5.313,7.997,5.654,9.27,3.1])\n",
    "train_y = numpy.asarray([1.7,2.76,2.09,3.19,1.694,1.573,3.366,2.596,2.53,1.221,2.827,3.465,1.65,2.904,2.42,2.94,1.3])\n",
    "\n",
    "train_count = train_x.shape[0]"
   ]
  },
  {
   "cell_type": "code",
   "execution_count": 3,
   "metadata": {},
   "outputs": [],
   "source": [
    "# define variables\n",
    "X = tf.placeholder('float')\n",
    "Y = tf.placeholder('float')\n",
    "\n",
    "ow = rng.randn()\n",
    "w = tf.Variable(ow, name=\"weight\")\n",
    "ob = rng.randn()\n",
    "b = tf.Variable(ob, name=\"bias\")"
   ]
  },
  {
   "cell_type": "code",
   "execution_count": 4,
   "metadata": {},
   "outputs": [],
   "source": [
    "# Create linear model with variables and placeholders\n",
    "model = w * X + b\n",
    "# alternatively: model = tf.add(tf.multiply(X, w), b)"
   ]
  },
  {
   "cell_type": "code",
   "execution_count": 5,
   "metadata": {},
   "outputs": [],
   "source": [
    "# Create cost function to train model against\n",
    "cost = tf.reduce_sum(tf.pow(model - Y, 2)) / (2 * train_count)"
   ]
  },
  {
   "cell_type": "code",
   "execution_count": 6,
   "metadata": {},
   "outputs": [],
   "source": [
    "# Create optimizer that will adjust model's variables based on value of cost function\n",
    "learning_rate = 0.02\n",
    "\n",
    "optimizer = tf.train.GradientDescentOptimizer(learning_rate).minimize(cost)"
   ]
  },
  {
   "cell_type": "code",
   "execution_count": 7,
   "metadata": {},
   "outputs": [],
   "source": [
    "# Initialize variables\n",
    "init = tf.global_variables_initializer()"
   ]
  },
  {
   "cell_type": "code",
   "execution_count": 8,
   "metadata": {},
   "outputs": [
    {
     "name": "stdout",
     "output_type": "stream",
     "text": [
      "Trained cost=0.0771694853902\n",
      "Starting Weight=-1.56005592648 \tOptimized Weight=0.248960524797\n",
      "Starting Bias=0.428951450919   \tOptimized Bias=0.794434607029\n",
      "Prediction for 5.24 = 2.09898781776\n"
     ]
    },
    {
     "data": {
      "image/png": "[encoded data removed]",
      "text/plain": [
       "<matplotlib.figure.Figure at 0x7fbf1de1e4d0>"
      ]
     },
     "metadata": {},
     "output_type": "display_data"
    }
   ],
   "source": [
    "training_cycles = 1000\n",
    "with tf.Session() as sess:\n",
    "    sess.run(init)\n",
    "    \n",
    "    # Optimize variables from training data\n",
    "    for i in range(training_cycles):\n",
    "        for (x, y) in zip(train_x, train_y):\n",
    "            sess.run(optimizer, feed_dict={X: x, Y: y})\n",
    "    \n",
    "    training_cost = sess.run(cost, feed_dict={X: train_x, Y: train_y})\n",
    "    print(\"Trained cost={}\".format(training_cost))\n",
    "    print(\"Starting Weight={} \\tOptimized Weight={}\".format(ow, sess.run(w)))\n",
    "    print(\"Starting Bias={}   \\tOptimized Bias={}\".format(ob, sess.run(b)))\n",
    "    \n",
    "    pred_y = sess.run(model, feed_dict={X: 5.24})\n",
    "    print(\"Prediction for 5.24 = {}\".format(pred_y))\n",
    "    \n",
    "    plt.plot(train_x, train_y, 'ro', label=\"Original Data\")\n",
    "    plt.plot(5.24, pred_y, 'go', label=\"Predicted Result\")\n",
    "    plt.plot(train_x, sess.run(w) * train_x + sess.run(b), label=\"Fitted line\")\n",
    "    plt.legend()\n",
    "    plt.show()\n",
    "    \n",
    "\n",
    "    "
   ]
  },
  {
   "cell_type": "code",
   "execution_count": null,
   "metadata": {},
   "outputs": [],
   "source": []
  }
 ],
 "metadata": {
  "kernelspec": {
   "display_name": "Python 2",
   "language": "python",
   "name": "python2"
  },
  "language_info": {
   "codemirror_mode": {
    "name": "ipython",
    "version": 2
   },
   "file_extension": ".py",
   "mimetype": "text/x-python",
   "name": "python",
   "nbconvert_exporter": "python",
   "pygments_lexer": "ipython2",
   "version": "2.7.12"
  }
 },
 "nbformat": 4,
 "nbformat_minor": 2
}
